{
 "cells": [
  {
   "cell_type": "code",
   "execution_count": null,
   "metadata": {},
   "outputs": [],
   "source": [
    "import pandas as pd\n",
    "\n",
    "if True:\n",
    "    df = pd.DataFrame(\n",
    "        [\n",
    "            [9, 6, 2, 3],\n",
    "            [9, \"sdf\", 2, 3],\n",
    "            [5, 1, None, 10],\n",
    "            [.89, 1, 3, None],\n",
    "        ],\n",
    "        index=list(\"fuck\"),\n",
    "        columns=list(\"ABCD\"),\n",
    "    )\n",
    "    print df\n",
    "    df.to_csv(\"my.csv\")\n",
    "    print pd.read_csv(\"my.csv\", na_values=[\"NULL\"])\n",
    "\"\"\"\n",
    "csv\n",
    "\"\"\"\n",
    "if False:\n",
    "    sw_df = pd.read_csv('nyc-subway-weather.csv')\n",
    "    print sw_df.head(5)"
   ]
  },
  {
   "cell_type": "code",
   "execution_count": null,
   "metadata": {},
   "outputs": [],
   "source": [
    ""
   ]
  }
 ],
 "metadata": {
  "kernelspec": {
   "display_name": "Python 2",
   "language": "python",
   "name": "python2"
  },
  "language_info": {
   "codemirror_mode": {
    "name": "ipython",
    "version": 2.0
   },
   "file_extension": ".py",
   "mimetype": "text/x-python",
   "name": "python",
   "nbconvert_exporter": "python",
   "pygments_lexer": "ipython2",
   "version": "2.7.10"
  }
 },
 "nbformat": 4,
 "nbformat_minor": 0
}